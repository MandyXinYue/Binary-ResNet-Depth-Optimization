{
 "cells": [
  {
   "cell_type": "markdown",
   "id": "varied-singing",
   "metadata": {},
   "source": [
    "# Preprocessing of the ResNet models\n",
    "\n",
    "in this notebook, the ResNet models (ResNet11, ResNet23, ResNet41 and ResNet50) will be trained on the ImageNet data to form initial weights for implementation in the Kaggle competition."
   ]
  },
  {
   "cell_type": "code",
   "execution_count": null,
   "id": "loved-miniature",
   "metadata": {},
   "outputs": [],
   "source": []
  }
 ],
 "metadata": {
  "kernelspec": {
   "display_name": "Python 3",
   "language": "python",
   "name": "python3"
  },
  "language_info": {
   "codemirror_mode": {
    "name": "ipython",
    "version": 3
   },
   "file_extension": ".py",
   "mimetype": "text/x-python",
   "name": "python",
   "nbconvert_exporter": "python",
   "pygments_lexer": "ipython3",
   "version": "3.8.5"
  }
 },
 "nbformat": 4,
 "nbformat_minor": 5
}
