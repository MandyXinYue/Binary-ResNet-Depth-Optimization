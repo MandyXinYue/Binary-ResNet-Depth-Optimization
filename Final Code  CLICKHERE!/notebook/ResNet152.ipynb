{
 "cells": [
  {
   "cell_type": "markdown",
   "id": "regulated-moisture",
   "metadata": {},
   "source": [
    "# Notebook used in Google Colab"
   ]
  },
  {
   "cell_type": "code",
   "execution_count": 1,
   "id": "Tz1Ia_6CF6tS",
   "metadata": {
    "colab": {
     "base_uri": "https://localhost:8080/"
    },
    "id": "Tz1Ia_6CF6tS",
    "outputId": "747d8154-7fb1-48ee-83d6-1b51af4d8acd"
   },
   "outputs": [
    {
     "name": "stdout",
     "output_type": "stream",
     "text": [
      "Mounted at /content/drive\n"
     ]
    }
   ],
   "source": [
    "from google.colab import drive\n",
    "drive.mount('/content/drive')"
   ]
  },
  {
   "cell_type": "code",
   "execution_count": 2,
   "id": "U3j7nxDUF620",
   "metadata": {
    "id": "U3j7nxDUF620"
   },
   "outputs": [],
   "source": [
    "from zipfile import ZipFile # Om de zip te unzippen\n",
    "from google.colab import files # Om de zip te uploaden\n",
    "\n",
    "file_name = \"/content/drive/MyDrive/train+val.zip\" # Colab slaat je bestanden op in de content folder nadat je hebt geupload dit zal dus de locatie zijn van je zip bestand nadat je het hebt geupload \n",
    "\n",
    "\n",
    "with ZipFile(file_name, 'r') as zip: \n",
    "  zip.extractall()\n",
    "\n"
   ]
  },
  {
   "cell_type": "code",
   "execution_count": 3,
   "id": "ydnzCKtQF7BM",
   "metadata": {
    "id": "ydnzCKtQF7BM"
   },
   "outputs": [],
   "source": [
    "file_name1 = \"/content/drive/MyDrive/test.zip\" # Colab slaat je bestanden op in de content folder nadat je hebt geupload dit zal dus de locatie zijn van je zip bestand nadat je het hebt geupload \n",
    "\n",
    "\n",
    "with ZipFile(file_name1, 'r') as zip: \n",
    "  zip.extractall()\n"
   ]
  },
  {
   "cell_type": "code",
   "execution_count": 20,
   "id": "fatty-quest",
   "metadata": {
    "id": "fatty-quest"
   },
   "outputs": [],
   "source": [
    "# disable overly verbose tensorflow logging\n",
    "import os\n",
    "os.environ['TF_CPP_MIN_LOG_LEVEL'] = '3'  # or any {'0', '1', '2'}   \n",
    "import tensorflow as tf\n",
    "\n",
    "\n",
    "import numpy as np\n",
    "import tensorflow as tf\n",
    "\n",
    "from tensorflow.keras.preprocessing.image import ImageDataGenerator\n",
    "from tensorflow.keras.models import Sequential, Model\n",
    "from tensorflow.keras import layers\n",
    "from tensorflow.keras.layers import Input, Dense, GlobalAveragePooling2D, Dropout, Flatten, Conv2D, MaxPool2D, Reshape\n",
    "from tensorflow.keras.optimizers import SGD\n",
    "from tensorflow.keras.callbacks import ModelCheckpoint, TensorBoard\n",
    "\n",
    "from tensorflow.keras.applications.resnet50 import preprocess_input\n",
    "\n",
    "# unused for now, to be used for ROC analysis\n",
    "from sklearn.metrics import roc_curve, auc\n",
    "\n",
    "allow_growth = True\n",
    "\n",
    "# the size of the images in the PCAM dataset\n",
    "IMAGE_SIZE = 96\n",
    "\n",
    "datagen = ImageDataGenerator(preprocessing_function=preprocess_input)"
   ]
  },
  {
   "cell_type": "code",
   "execution_count": 24,
   "id": "french-mustang",
   "metadata": {
    "colab": {
     "base_uri": "https://localhost:8080/"
    },
    "id": "french-mustang",
    "outputId": "bdb6c3a9-1d75-4cc1-9290-df657c8a8318"
   },
   "outputs": [
    {
     "name": "stdout",
     "output_type": "stream",
     "text": [
      "Model: \"model_4\"\n",
      "_________________________________________________________________\n",
      "Layer (type)                 Output Shape              Param #   \n",
      "=================================================================\n",
      "input_13 (InputLayer)        [(None, 96, 96, 3)]       0         \n",
      "_________________________________________________________________\n",
      "resnet152 (Functional)       (None, 3, 3, 2048)        58370944  \n",
      "_________________________________________________________________\n",
      "global_average_pooling2d_2 ( (None, 2048)              0         \n",
      "_________________________________________________________________\n",
      "dropout_5 (Dropout)          (None, 2048)              0         \n",
      "_________________________________________________________________\n",
      "dense_11 (Dense)             (None, 1)                 2049      \n",
      "=================================================================\n",
      "Total params: 58,372,993\n",
      "Trainable params: 58,221,569\n",
      "Non-trainable params: 151,424\n",
      "_________________________________________________________________\n"
     ]
    }
   ],
   "source": [
    "input_shape = (IMAGE_SIZE, IMAGE_SIZE, 3)\n",
    "\n",
    "\n",
    "input = Input(input_shape)\n",
    "\n",
    "# get the pretrained model, cut out the top layer\n",
    "pretrained = tf.keras.applications.ResNet152(input_shape=input_shape, include_top=False, weights='imagenet')\n",
    "\n",
    "output = pretrained(input)\n",
    "output = GlobalAveragePooling2D()(output)\n",
    "output = Dropout(0.5)(output)\n",
    "output = Dense(1, activation='sigmoid')(output)\n",
    "\n",
    "model = Model(input, output)\n",
    "\n",
    "# note the lower lr compared to the cnn example\n",
    "model.compile(SGD(lr=1e-6, momentum=0.95), loss = 'binary_crossentropy', metrics=['accuracy'])\n",
    "\n",
    "# print a summary of the model on screen\n",
    "model.summary()"
   ]
  },
  {
   "cell_type": "code",
   "execution_count": 25,
   "id": "macro-charm",
   "metadata": {
    "colab": {
     "base_uri": "https://localhost:8080/"
    },
    "id": "macro-charm",
    "outputId": "04e97566-345c-4579-a188-2709b8d9321f"
   },
   "outputs": [
    {
     "name": "stdout",
     "output_type": "stream",
     "text": [
      "Found 144000 images belonging to 2 classes.\n",
      "Found 16000 images belonging to 2 classes.\n"
     ]
    }
   ],
   "source": [
    "from tensorflow.keras.preprocessing.image import ImageDataGenerator\n",
    "import glob\n",
    "########### insert hyperparameters ################\n",
    "train_batch_size = 32\n",
    "val_batch_size = 32\n",
    "###################################################\n",
    "\n",
    "base_dir = r'/content'\n",
    "test_dir = r'/content/test'\n",
    "\n",
    "# dataset parameters\n",
    "TRAIN_PATH = os.path.join(base_dir, 'train')\n",
    "VALID_PATH = os.path.join(base_dir, 'valid')\n",
    "TEST_FILES = glob.glob(test_dir + '\\*.tif')\n",
    "RESCALING_FACTOR = 1./255\n",
    "IMAGE_SIZE = 96\n",
    "\n",
    "# instantiate data generators\n",
    "datagen = ImageDataGenerator(rescale=RESCALING_FACTOR)\n",
    "\n",
    "train_gen = datagen.flow_from_directory(TRAIN_PATH,\n",
    "                                    target_size=(IMAGE_SIZE, IMAGE_SIZE),\n",
    "                                    batch_size=train_batch_size,\n",
    "                                    class_mode='binary',\n",
    "                                    shuffle=True)\n",
    "\n",
    "val_gen = datagen.flow_from_directory(VALID_PATH,\n",
    "                                    target_size=(IMAGE_SIZE, IMAGE_SIZE),\n",
    "                                    batch_size=val_batch_size,\n",
    "                                    class_mode='binary',\n",
    "                                    shuffle=False)\n",
    "\n",
    "# form steps\n",
    "train_steps = train_gen.n//train_gen.batch_size\n",
    "val_steps = val_gen.n//val_gen.batch_size"
   ]
  },
  {
   "cell_type": "code",
   "execution_count": 25,
   "id": "agreed-nepal",
   "metadata": {
    "id": "agreed-nepal"
   },
   "outputs": [],
   "source": []
  },
  {
   "cell_type": "code",
   "execution_count": 26,
   "id": "generous-utilization",
   "metadata": {
    "colab": {
     "base_uri": "https://localhost:8080/"
    },
    "id": "generous-utilization",
    "outputId": "cdc23a28-1da9-4590-dda3-9722e3bd449c"
   },
   "outputs": [
    {
     "name": "stderr",
     "output_type": "stream",
     "text": [
      "/usr/local/lib/python3.7/dist-packages/tensorflow/python/keras/engine/training.py:1844: UserWarning: `Model.fit_generator` is deprecated and will be removed in a future version. Please use `Model.fit`, which supports generators.\n",
      "  warnings.warn('`Model.fit_generator` is deprecated and '\n"
     ]
    },
    {
     "name": "stdout",
     "output_type": "stream",
     "text": [
      "Epoch 1/25\n",
      "225/225 [==============================] - 75s 266ms/step - loss: 1.0430 - accuracy: 0.4870 - val_loss: 165.2066 - val_accuracy: 0.0000e+00\n",
      "\n",
      "Epoch 00001: val_loss improved from inf to 165.20660, saving model to Resnet152_weights.hdf5\n",
      "Epoch 2/25\n",
      "225/225 [==============================] - 54s 241ms/step - loss: 0.9934 - accuracy: 0.5019 - val_loss: 181.8214 - val_accuracy: 0.0000e+00\n",
      "\n",
      "Epoch 00002: val_loss did not improve from 165.20660\n",
      "Epoch 3/25\n",
      "225/225 [==============================] - 54s 242ms/step - loss: 0.9495 - accuracy: 0.5207 - val_loss: 62.0455 - val_accuracy: 0.0637\n",
      "\n",
      "Epoch 00003: val_loss improved from 165.20660 to 62.04555, saving model to Resnet152_weights.hdf5\n",
      "Epoch 4/25\n",
      "225/225 [==============================] - 54s 241ms/step - loss: 0.9183 - accuracy: 0.5383 - val_loss: 24.2439 - val_accuracy: 0.0600\n",
      "\n",
      "Epoch 00004: val_loss improved from 62.04555 to 24.24393, saving model to Resnet152_weights.hdf5\n",
      "Epoch 5/25\n",
      "225/225 [==============================] - 54s 241ms/step - loss: 0.8619 - accuracy: 0.5559 - val_loss: 11.5668 - val_accuracy: 0.3187\n",
      "\n",
      "Epoch 00005: val_loss improved from 24.24393 to 11.56678, saving model to Resnet152_weights.hdf5\n",
      "Epoch 6/25\n",
      "225/225 [==============================] - 54s 240ms/step - loss: 0.8531 - accuracy: 0.5723 - val_loss: 3.2671 - val_accuracy: 0.4925\n",
      "\n",
      "Epoch 00006: val_loss improved from 11.56678 to 3.26712, saving model to Resnet152_weights.hdf5\n",
      "Epoch 7/25\n",
      "225/225 [==============================] - 54s 240ms/step - loss: 0.8299 - accuracy: 0.5737 - val_loss: 2.3771 - val_accuracy: 0.5325\n",
      "\n",
      "Epoch 00007: val_loss improved from 3.26712 to 2.37708, saving model to Resnet152_weights.hdf5\n",
      "Epoch 8/25\n",
      "225/225 [==============================] - 54s 240ms/step - loss: 0.7968 - accuracy: 0.6057 - val_loss: 2.1435 - val_accuracy: 0.5575\n",
      "\n",
      "Epoch 00008: val_loss improved from 2.37708 to 2.14355, saving model to Resnet152_weights.hdf5\n",
      "Epoch 9/25\n",
      "225/225 [==============================] - 54s 239ms/step - loss: 0.7649 - accuracy: 0.6068 - val_loss: 2.8762 - val_accuracy: 0.5750\n",
      "\n",
      "Epoch 00009: val_loss did not improve from 2.14355\n",
      "Epoch 10/25\n",
      "225/225 [==============================] - 54s 240ms/step - loss: 0.7771 - accuracy: 0.5944 - val_loss: 2.3078 - val_accuracy: 0.5900\n",
      "\n",
      "Epoch 00010: val_loss did not improve from 2.14355\n",
      "Epoch 11/25\n",
      "225/225 [==============================] - 54s 240ms/step - loss: 0.7429 - accuracy: 0.6270 - val_loss: 2.7818 - val_accuracy: 0.6137\n",
      "\n",
      "Epoch 00011: val_loss did not improve from 2.14355\n",
      "Epoch 12/25\n",
      "225/225 [==============================] - 54s 239ms/step - loss: 0.7661 - accuracy: 0.6239 - val_loss: 2.7757 - val_accuracy: 0.6338\n",
      "\n",
      "Epoch 00012: val_loss did not improve from 2.14355\n",
      "Epoch 13/25\n",
      "225/225 [==============================] - 54s 240ms/step - loss: 0.7162 - accuracy: 0.6461 - val_loss: 2.3789 - val_accuracy: 0.6413\n",
      "\n",
      "Epoch 00013: val_loss did not improve from 2.14355\n",
      "Epoch 14/25\n",
      "225/225 [==============================] - 54s 240ms/step - loss: 0.7252 - accuracy: 0.6540 - val_loss: 1.7854 - val_accuracy: 0.6637\n",
      "\n",
      "Epoch 00014: val_loss improved from 2.14355 to 1.78541, saving model to Resnet152_weights.hdf5\n",
      "Epoch 15/25\n",
      "225/225 [==============================] - 54s 240ms/step - loss: 0.7020 - accuracy: 0.6445 - val_loss: 1.8372 - val_accuracy: 0.6787\n",
      "\n",
      "Epoch 00015: val_loss did not improve from 1.78541\n",
      "Epoch 16/25\n",
      "225/225 [==============================] - 54s 240ms/step - loss: 0.6779 - accuracy: 0.6645 - val_loss: 2.0562 - val_accuracy: 0.6862\n",
      "\n",
      "Epoch 00016: val_loss did not improve from 1.78541\n",
      "Epoch 17/25\n",
      "225/225 [==============================] - 54s 240ms/step - loss: 0.6903 - accuracy: 0.6629 - val_loss: 2.4956 - val_accuracy: 0.6963\n",
      "\n",
      "Epoch 00017: val_loss did not improve from 1.78541\n",
      "Epoch 18/25\n",
      "225/225 [==============================] - 54s 240ms/step - loss: 0.6644 - accuracy: 0.6656 - val_loss: 2.2354 - val_accuracy: 0.7000\n",
      "\n",
      "Epoch 00018: val_loss did not improve from 1.78541\n",
      "Epoch 19/25\n",
      "225/225 [==============================] - 54s 240ms/step - loss: 0.6718 - accuracy: 0.6695 - val_loss: 1.8551 - val_accuracy: 0.7237\n",
      "\n",
      "Epoch 00019: val_loss did not improve from 1.78541\n",
      "Epoch 20/25\n",
      "225/225 [==============================] - 54s 240ms/step - loss: 0.6722 - accuracy: 0.6766 - val_loss: 0.8899 - val_accuracy: 0.7513\n",
      "\n",
      "Epoch 00020: val_loss improved from 1.78541 to 0.88993, saving model to Resnet152_weights.hdf5\n",
      "Epoch 21/25\n",
      "225/225 [==============================] - 54s 240ms/step - loss: 0.6592 - accuracy: 0.6814 - val_loss: 2.7049 - val_accuracy: 0.7425\n",
      "\n",
      "Epoch 00021: val_loss did not improve from 0.88993\n",
      "Epoch 22/25\n",
      "225/225 [==============================] - 54s 241ms/step - loss: 0.6256 - accuracy: 0.6969 - val_loss: 2.4006 - val_accuracy: 0.7437\n",
      "\n",
      "Epoch 00022: val_loss did not improve from 0.88993\n",
      "Epoch 23/25\n",
      "225/225 [==============================] - 54s 241ms/step - loss: 0.6739 - accuracy: 0.6835 - val_loss: 2.7932 - val_accuracy: 0.7625\n",
      "\n",
      "Epoch 00023: val_loss did not improve from 0.88993\n",
      "Epoch 24/25\n",
      "225/225 [==============================] - 54s 242ms/step - loss: 0.6453 - accuracy: 0.6833 - val_loss: 2.0929 - val_accuracy: 0.7600\n",
      "\n",
      "Epoch 00024: val_loss did not improve from 0.88993\n",
      "Epoch 25/25\n",
      "225/225 [==============================] - 54s 242ms/step - loss: 0.6234 - accuracy: 0.7093 - val_loss: 2.4353 - val_accuracy: 0.7725\n",
      "\n",
      "Epoch 00025: val_loss did not improve from 0.88993\n"
     ]
    }
   ],
   "source": [
    "# save the model and weights\n",
    "model_name = 'Resnet152'\n",
    "model_filepath = model_name + '.json'\n",
    "weights_filepath = model_name + '_weights.hdf5'\n",
    "\n",
    "model_json = model.to_json() # serialize model to JSON\n",
    "with open(model_filepath, 'w') as json_file:\n",
    "    json_file.write(model_json)\n",
    "\n",
    "\n",
    "# define the model checkpoint and Tensorboard callbacks\n",
    "checkpoint = ModelCheckpoint(weights_filepath, monitor='val_loss', verbose=1, save_best_only=True, mode='min')\n",
    "tensorboard = TensorBoard(os.path.join('logs', model_name))\n",
    "callbacks_list = [checkpoint, tensorboard]\n",
    "\n",
    "\n",
    "# train the model, note that we define \"mini-epochs\"\n",
    "train_steps = train_gen.n//train_gen.batch_size//20\n",
    "val_steps = val_gen.n//val_gen.batch_size//20\n",
    "\n",
    "history = model.fit_generator(train_gen, steps_per_epoch=train_steps,\n",
    "                    validation_data=val_gen,\n",
    "                    validation_steps=val_steps,\n",
    "                    epochs=25,\n",
    "                    callbacks=callbacks_list)"
   ]
  },
  {
   "cell_type": "code",
   "execution_count": 26,
   "id": "welsh-silence",
   "metadata": {
    "id": "welsh-silence"
   },
   "outputs": [],
   "source": [
    "pip install -U keras-tuner "
   ]
  },
  {
   "cell_type": "code",
   "execution_count": 26,
   "id": "loaded-appendix",
   "metadata": {
    "id": "loaded-appendix"
   },
   "outputs": [],
   "source": []
  },
  {
   "cell_type": "code",
   "execution_count": 27,
   "id": "available-enterprise",
   "metadata": {
    "colab": {
     "base_uri": "https://localhost:8080/",
     "height": 282
    },
    "id": "available-enterprise",
    "outputId": "a872463b-3fb5-42c3-f423-5c4b0287e41f"
   },
   "outputs": [
    {
     "data": {
      "text/plain": [
       "[<matplotlib.lines.Line2D at 0x7fc2bce6fc50>]"
      ]
     },
     "execution_count": 27,
     "metadata": {
      "tags": []
     },
     "output_type": "execute_result"
    },
    {
     "data": {
      "image/png": "[encoded data removed]",
      "text/plain": [
       "<Figure size 432x288 with 2 Axes>"
      ]
     },
     "metadata": {
      "needs_background": "light",
      "tags": []
     },
     "output_type": "display_data"
    }
   ],
   "source": [
    "#Plotting the training and validation loss\n",
    "import matplotlib.pyplot as plt\n",
    "\n",
    "f,ax=plt.subplots(2,1) #Creates 2 subplots under 1 column\n",
    "\n",
    "#Assigning the first subplot to graph training loss and validation loss\n",
    "ax[0].plot(model.history.history['loss'],color='b',label='Training Loss')\n",
    "ax[0].plot(model.history.history['val_loss'],color='r',label='Validation Loss')\n",
    "\n",
    "#Plotting the training accuracy and validation accuracy\n",
    "ax[1].plot(model.history.history['accuracy'],color='b',label='Training  Accuracy')\n",
    "ax[1].plot(model.history.history['val_accuracy'],color='r',label='Validation Accuracy')"
   ]
  },
  {
   "cell_type": "code",
   "execution_count": 39,
   "id": "advanced-committee",
   "metadata": {
    "colab": {
     "base_uri": "https://localhost:8080/"
    },
    "id": "advanced-committee",
    "outputId": "fbafea18-dbb6-41f0-d983-06d6bc3ce081"
   },
   "outputs": [
    {
     "name": "stdout",
     "output_type": "stream",
     "text": [
      "Indexes: 0 - 5000\n",
      "Indexes: 5000 - 10000\n",
      "Indexes: 10000 - 15000\n",
      "Indexes: 15000 - 20000\n",
      "Indexes: 20000 - 25000\n",
      "Indexes: 25000 - 30000\n",
      "Indexes: 30000 - 35000\n",
      "Indexes: 35000 - 40000\n",
      "Indexes: 40000 - 45000\n",
      "Indexes: 45000 - 50000\n",
      "Indexes: 50000 - 55000\n",
      "Indexes: 55000 - 60000\n"
     ]
    }
   ],
   "source": [
    "import os\n",
    "os.environ['TF_CPP_MIN_LOG_LEVEL'] = '3'  # or any {'0', '1', '2'}   \n",
    "import tensorflow as tf\n",
    "\n",
    "import numpy as np\n",
    "\n",
    "import glob\n",
    "import pandas as pd\n",
    "from matplotlib.pyplot import imread\n",
    "\n",
    "from tensorflow.keras.models import model_from_json\n",
    "\n",
    "#Change these variables to point at the locations and names of the test dataset and your models.\n",
    "TEST_PATH = r\"/content/test\"\n",
    "MODEL_FILEPATH = 'Resnet152.json' \n",
    "MODEL_WEIGHTS_FILEPATH = 'Resnet152_weights.hdf5'\n",
    "\n",
    "# load model and model weights\n",
    "json_file = open(MODEL_FILEPATH, 'r')\n",
    "loaded_model_json = json_file.read()\n",
    "json_file.close()\n",
    "model = model_from_json(loaded_model_json)\n",
    "\n",
    "\n",
    "# load weights into new model\n",
    "model.load_weights(MODEL_WEIGHTS_FILEPATH)\n",
    "\n",
    "\n",
    "# open the test set in batches (as it is a very big dataset) and make predictions\n",
    "test_files = glob.glob(TEST_PATH + '/*.tif')\n",
    "\n",
    "submission = pd.DataFrame()\n",
    "\n",
    "file_batch = 5000\n",
    "max_idx = len(test_files)\n",
    "\n",
    "for idx in range(0, max_idx, file_batch):\n",
    "\n",
    "    print('Indexes: %i - %i'%(idx, idx+file_batch))\n",
    "\n",
    "    test_df = pd.DataFrame({'path': test_files[idx:idx+file_batch]})\n",
    "\n",
    "\n",
    "    # get the image id \n",
    "    test_df['id'] = test_df.path.map(lambda x: x.split(os.sep)[-1].split('.')[0])\n",
    "    test_df['image'] = test_df['path'].map(imread)\n",
    "    \n",
    "    \n",
    "    K_test = np.stack(test_df['image'].values)\n",
    "    \n",
    "    # apply the same preprocessing as during draining\n",
    "    K_test = K_test.astype('float')/255.0\n",
    "    \n",
    "    predictions = model.predict(K_test)\n",
    "    \n",
    "    test_df['label'] = predictions\n",
    "    submission = pd.concat([submission, test_df[['id', 'label']]])\n",
    "\n",
    "\n",
    "# save your submission\n",
    "submission.head()\n",
    "submission.to_csv('submission_resnet152.csv', index = False, header = True)\n"
   ]
  },
  {
   "cell_type": "code",
   "execution_count": 9,
   "id": "capable-shadow",
   "metadata": {
    "id": "capable-shadow"
   },
   "outputs": [],
   "source": []
  }
 ],
 "metadata": {
  "accelerator": "GPU",
  "colab": {
   "collapsed_sections": [],
   "name": "ResNet152.ipynb",
   "provenance": []
  },
  "kernelspec": {
   "display_name": "Python 3",
   "language": "python",
   "name": "python3"
  },
  "language_info": {
   "codemirror_mode": {
    "name": "ipython",
    "version": 3
   },
   "file_extension": ".py",
   "mimetype": "text/x-python",
   "name": "python",
   "nbconvert_exporter": "python",
   "pygments_lexer": "ipython3",
   "version": "3.8.5"
  }
 },
 "nbformat": 4,
 "nbformat_minor": 5
}
